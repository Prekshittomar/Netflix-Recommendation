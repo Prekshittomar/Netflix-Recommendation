{
 "cells": [
  {
   "cell_type": "code",
   "execution_count": 11,
   "metadata": {},
   "outputs": [],
   "source": [
    "import numpy as np\n",
    "import pandas as pd\n",
    "import matplotlib.pyplot as plt\n",
    "import seaborn as sns\n",
    "import os\n",
    "\n",
    "from sklearn.feature_extraction.text import TfidfVectorizer\n",
    "from sklearn.metrics.pairwise import linear_kernel"
   ]
  },
  {
   "cell_type": "code",
   "execution_count": 2,
   "metadata": {},
   "outputs": [],
   "source": [
    "netflix_data=pd.read_csv(\"netflix_full.csv\")\n"
   ]
  },
  {
   "cell_type": "code",
   "execution_count": 3,
   "metadata": {},
   "outputs": [
    {
     "data": {
      "text/html": [
       "<div>\n",
       "<style scoped>\n",
       "    .dataframe tbody tr th:only-of-type {\n",
       "        vertical-align: middle;\n",
       "    }\n",
       "\n",
       "    .dataframe tbody tr th {\n",
       "        vertical-align: top;\n",
       "    }\n",
       "\n",
       "    .dataframe thead th {\n",
       "        text-align: right;\n",
       "    }\n",
       "</style>\n",
       "<table border=\"1\" class=\"dataframe\">\n",
       "  <thead>\n",
       "    <tr style=\"text-align: right;\">\n",
       "      <th></th>\n",
       "      <th>id</th>\n",
       "      <th>type</th>\n",
       "      <th>name</th>\n",
       "      <th>creator</th>\n",
       "      <th>starring</th>\n",
       "      <th>year</th>\n",
       "      <th>rating</th>\n",
       "      <th>time</th>\n",
       "      <th>genres</th>\n",
       "      <th>country</th>\n",
       "      <th>describle</th>\n",
       "    </tr>\n",
       "  </thead>\n",
       "  <tbody>\n",
       "    <tr>\n",
       "      <th>0</th>\n",
       "      <td>81416533</td>\n",
       "      <td>Movie</td>\n",
       "      <td>Heart of Stone</td>\n",
       "      <td>NaN</td>\n",
       "      <td>Gal Gadot, Jamie Dornan, Alia Bhatt</td>\n",
       "      <td>2023</td>\n",
       "      <td>TV-PG</td>\n",
       "      <td>125 min</td>\n",
       "      <td>Drama Movies ,Action &amp; Adventure Movies ,Spy M...</td>\n",
       "      <td>United States</td>\n",
       "      <td>An intelligence operative for a shadowy global...</td>\n",
       "    </tr>\n",
       "    <tr>\n",
       "      <th>1</th>\n",
       "      <td>80991406</td>\n",
       "      <td>Movie</td>\n",
       "      <td>Johnny English Strikes Again</td>\n",
       "      <td>NaN</td>\n",
       "      <td>Rowan Atkinson, Ben Miller, Emma Thompson</td>\n",
       "      <td>2018</td>\n",
       "      <td>TV-PG</td>\n",
       "      <td>88 min</td>\n",
       "      <td>Family Movies ,Comedy Movies ,Action &amp; Adventu...</td>\n",
       "      <td>United States</td>\n",
       "      <td>After a cyberattack exposes every undercover a...</td>\n",
       "    </tr>\n",
       "    <tr>\n",
       "      <th>2</th>\n",
       "      <td>81644420</td>\n",
       "      <td>Movie</td>\n",
       "      <td>Hunt</td>\n",
       "      <td>NaN</td>\n",
       "      <td>Lee Jung-jae, Jung Woo-sung, Jeon Hye-jin</td>\n",
       "      <td>2022</td>\n",
       "      <td>TV-14</td>\n",
       "      <td>125 min</td>\n",
       "      <td>Drama Movies ,Action &amp; Adventure Movies ,Spy M...</td>\n",
       "      <td>South Korea</td>\n",
       "      <td>As a pair of national security agents hunt a N...</td>\n",
       "    </tr>\n",
       "    <tr>\n",
       "      <th>3</th>\n",
       "      <td>70208104</td>\n",
       "      <td>Movie</td>\n",
       "      <td>Safe House</td>\n",
       "      <td>NaN</td>\n",
       "      <td>Denzel Washington, Ryan Reynolds, Vera Farmiga</td>\n",
       "      <td>2012</td>\n",
       "      <td>TV-14</td>\n",
       "      <td>114 min</td>\n",
       "      <td>Action &amp; Adventure Movies ,Spy Movies</td>\n",
       "      <td>United States</td>\n",
       "      <td>CIA operative Matt Weston must get a dangerous...</td>\n",
       "    </tr>\n",
       "    <tr>\n",
       "      <th>4</th>\n",
       "      <td>70297761</td>\n",
       "      <td>Movie</td>\n",
       "      <td>Commitment</td>\n",
       "      <td>NaN</td>\n",
       "      <td>Choi Seung-hyun, Han Ye-ri, Yoon Je-moon</td>\n",
       "      <td>2013</td>\n",
       "      <td>TV-14</td>\n",
       "      <td>112 min</td>\n",
       "      <td>Action &amp; Adventure Movies ,Spy Movies</td>\n",
       "      <td>South Korea</td>\n",
       "      <td>After taking on a spying mission to free his s...</td>\n",
       "    </tr>\n",
       "  </tbody>\n",
       "</table>\n",
       "</div>"
      ],
      "text/plain": [
       "         id   type                          name creator  \\\n",
       "0  81416533  Movie                Heart of Stone     NaN   \n",
       "1  80991406  Movie  Johnny English Strikes Again     NaN   \n",
       "2  81644420  Movie                          Hunt     NaN   \n",
       "3  70208104  Movie                    Safe House     NaN   \n",
       "4  70297761  Movie                    Commitment     NaN   \n",
       "\n",
       "                                         starring  year rating     time  \\\n",
       "0             Gal Gadot, Jamie Dornan, Alia Bhatt  2023  TV-PG  125 min   \n",
       "1       Rowan Atkinson, Ben Miller, Emma Thompson  2018  TV-PG   88 min   \n",
       "2       Lee Jung-jae, Jung Woo-sung, Jeon Hye-jin  2022  TV-14  125 min   \n",
       "3  Denzel Washington, Ryan Reynolds, Vera Farmiga  2012  TV-14  114 min   \n",
       "4        Choi Seung-hyun, Han Ye-ri, Yoon Je-moon  2013  TV-14  112 min   \n",
       "\n",
       "                                              genres        country  \\\n",
       "0  Drama Movies ,Action & Adventure Movies ,Spy M...  United States   \n",
       "1  Family Movies ,Comedy Movies ,Action & Adventu...  United States   \n",
       "2  Drama Movies ,Action & Adventure Movies ,Spy M...    South Korea   \n",
       "3             Action & Adventure Movies ,Spy Movies   United States   \n",
       "4              Action & Adventure Movies ,Spy Movies    South Korea   \n",
       "\n",
       "                                           describle  \n",
       "0  An intelligence operative for a shadowy global...  \n",
       "1  After a cyberattack exposes every undercover a...  \n",
       "2  As a pair of national security agents hunt a N...  \n",
       "3  CIA operative Matt Weston must get a dangerous...  \n",
       "4  After taking on a spying mission to free his s...  "
      ]
     },
     "execution_count": 3,
     "metadata": {},
     "output_type": "execute_result"
    }
   ],
   "source": [
    "netflix_data.head()"
   ]
  },
  {
   "cell_type": "code",
   "execution_count": 4,
   "metadata": {},
   "outputs": [
    {
     "data": {
      "text/plain": [
       "(3256, 11)"
      ]
     },
     "execution_count": 4,
     "metadata": {},
     "output_type": "execute_result"
    }
   ],
   "source": [
    "netflix_data.shape"
   ]
  },
  {
   "cell_type": "code",
   "execution_count": 5,
   "metadata": {},
   "outputs": [
    {
     "name": "stdout",
     "output_type": "stream",
     "text": [
      "<class 'pandas.core.frame.DataFrame'>\n",
      "RangeIndex: 3256 entries, 0 to 3255\n",
      "Data columns (total 11 columns):\n",
      " #   Column     Non-Null Count  Dtype \n",
      "---  ------     --------------  ----- \n",
      " 0   id         3256 non-null   int64 \n",
      " 1   type       3256 non-null   object\n",
      " 2   name       3256 non-null   object\n",
      " 3   creator    713 non-null    object\n",
      " 4   starring   3256 non-null   object\n",
      " 5   year       3256 non-null   int64 \n",
      " 6   rating     3256 non-null   object\n",
      " 7   time       3256 non-null   object\n",
      " 8   genres     3255 non-null   object\n",
      " 9   country    2974 non-null   object\n",
      " 10  describle  3256 non-null   object\n",
      "dtypes: int64(2), object(9)\n",
      "memory usage: 279.9+ KB\n"
     ]
    }
   ],
   "source": [
    "netflix_data.info()"
   ]
  },
  {
   "cell_type": "code",
   "execution_count": 6,
   "metadata": {},
   "outputs": [
    {
     "data": {
      "text/html": [
       "<div>\n",
       "<style scoped>\n",
       "    .dataframe tbody tr th:only-of-type {\n",
       "        vertical-align: middle;\n",
       "    }\n",
       "\n",
       "    .dataframe tbody tr th {\n",
       "        vertical-align: top;\n",
       "    }\n",
       "\n",
       "    .dataframe thead th {\n",
       "        text-align: right;\n",
       "    }\n",
       "</style>\n",
       "<table border=\"1\" class=\"dataframe\">\n",
       "  <thead>\n",
       "    <tr style=\"text-align: right;\">\n",
       "      <th></th>\n",
       "      <th>id</th>\n",
       "      <th>year</th>\n",
       "    </tr>\n",
       "  </thead>\n",
       "  <tbody>\n",
       "    <tr>\n",
       "      <th>count</th>\n",
       "      <td>3.256000e+03</td>\n",
       "      <td>3256.000000</td>\n",
       "    </tr>\n",
       "    <tr>\n",
       "      <th>mean</th>\n",
       "      <td>8.063665e+07</td>\n",
       "      <td>2019.364865</td>\n",
       "    </tr>\n",
       "    <tr>\n",
       "      <th>std</th>\n",
       "      <td>1.936469e+06</td>\n",
       "      <td>2.704297</td>\n",
       "    </tr>\n",
       "    <tr>\n",
       "      <th>min</th>\n",
       "      <td>7.004527e+07</td>\n",
       "      <td>2012.000000</td>\n",
       "    </tr>\n",
       "    <tr>\n",
       "      <th>25%</th>\n",
       "      <td>8.021615e+07</td>\n",
       "      <td>2018.000000</td>\n",
       "    </tr>\n",
       "    <tr>\n",
       "      <th>50%</th>\n",
       "      <td>8.112197e+07</td>\n",
       "      <td>2020.000000</td>\n",
       "    </tr>\n",
       "    <tr>\n",
       "      <th>75%</th>\n",
       "      <td>8.141198e+07</td>\n",
       "      <td>2022.000000</td>\n",
       "    </tr>\n",
       "    <tr>\n",
       "      <th>max</th>\n",
       "      <td>8.171850e+07</td>\n",
       "      <td>2023.000000</td>\n",
       "    </tr>\n",
       "  </tbody>\n",
       "</table>\n",
       "</div>"
      ],
      "text/plain": [
       "                 id         year\n",
       "count  3.256000e+03  3256.000000\n",
       "mean   8.063665e+07  2019.364865\n",
       "std    1.936469e+06     2.704297\n",
       "min    7.004527e+07  2012.000000\n",
       "25%    8.021615e+07  2018.000000\n",
       "50%    8.112197e+07  2020.000000\n",
       "75%    8.141198e+07  2022.000000\n",
       "max    8.171850e+07  2023.000000"
      ]
     },
     "execution_count": 6,
     "metadata": {},
     "output_type": "execute_result"
    }
   ],
   "source": [
    "netflix_data.describe()"
   ]
  },
  {
   "cell_type": "code",
   "execution_count": 9,
   "metadata": {},
   "outputs": [
    {
     "data": {
      "text/plain": [
       "(3256, 10900)"
      ]
     },
     "execution_count": 9,
     "metadata": {},
     "output_type": "execute_result"
    }
   ],
   "source": [
    "tfidf = TfidfVectorizer(stop_words='english')\n",
    "netflix_data['describle'] = netflix_data['describle'].fillna('')\n",
    "tfidf_matrix = tfidf.fit_transform(netflix_data['describle'])\n",
    "tfidf_matrix.shape"
   ]
  },
  {
   "cell_type": "code",
   "execution_count": 10,
   "metadata": {},
   "outputs": [
    {
     "name": "stdout",
     "output_type": "stream",
     "text": [
      "[[0. 0. 0. 0. 0. 0. 0. 0. 0. 0. 0. 0. 0. 0. 0. 0. 0. 0. 0. 0.]\n",
      " [0. 0. 0. 0. 0. 0. 0. 0. 0. 0. 0. 0. 0. 0. 0. 0. 0. 0. 0. 0.]\n",
      " [0. 0. 0. 0. 0. 0. 0. 0. 0. 0. 0. 0. 0. 0. 0. 0. 0. 0. 0. 0.]\n",
      " [0. 0. 0. 0. 0. 0. 0. 0. 0. 0. 0. 0. 0. 0. 0. 0. 0. 0. 0. 0.]\n",
      " [0. 0. 0. 0. 0. 0. 0. 0. 0. 0. 0. 0. 0. 0. 0. 0. 0. 0. 0. 0.]\n",
      " [0. 0. 0. 0. 0. 0. 0. 0. 0. 0. 0. 0. 0. 0. 0. 0. 0. 0. 0. 0.]\n",
      " [0. 0. 0. 0. 0. 0. 0. 0. 0. 0. 0. 0. 0. 0. 0. 0. 0. 0. 0. 0.]\n",
      " [0. 0. 0. 0. 0. 0. 0. 0. 0. 0. 0. 0. 0. 0. 0. 0. 0. 0. 0. 0.]\n",
      " [0. 0. 0. 0. 0. 0. 0. 0. 0. 0. 0. 0. 0. 0. 0. 0. 0. 0. 0. 0.]\n",
      " [0. 0. 0. 0. 0. 0. 0. 0. 0. 0. 0. 0. 0. 0. 0. 0. 0. 0. 0. 0.]]\n"
     ]
    }
   ],
   "source": [
    "print(tfidf_matrix.toarray()[:10, :20])\n"
   ]
  },
  {
   "cell_type": "code",
   "execution_count": 12,
   "metadata": {},
   "outputs": [],
   "source": [
    "cosine_sim = linear_kernel(tfidf_matrix, tfidf_matrix)\n"
   ]
  },
  {
   "cell_type": "code",
   "execution_count": 13,
   "metadata": {},
   "outputs": [
    {
     "data": {
      "image/png": "[encoded data removed]",
      "text/plain": [
       "<Figure size 1000x600 with 2 Axes>"
      ]
     },
     "metadata": {},
     "output_type": "display_data"
    }
   ],
   "source": [
    "subset_cosine_sim = cosine_sim[:5, :5]\n",
    "\n",
    "plt.figure(figsize=(10, 6))\n",
    "sns.heatmap(subset_cosine_sim, cmap='YlGnBu', annot=True)\n",
    "plt.title('Cosine Similarity Describle')\n",
    "plt.show()"
   ]
  },
  {
   "cell_type": "code",
   "execution_count": 14,
   "metadata": {},
   "outputs": [],
   "source": [
    "indices = pd.Series(netflix_data.index, index=netflix_data['name']).drop_duplicates()\n"
   ]
  },
  {
   "cell_type": "code",
   "execution_count": 15,
   "metadata": {},
   "outputs": [],
   "source": [
    "def get_recommendations(title, cosine_sim=cosine_sim):\n",
    "    idx = indices[title]\n",
    "    sim_scores = list(enumerate(cosine_sim[idx]))\n",
    "    sim_scores = sorted(sim_scores, key=lambda x: x[1], reverse=True)\n",
    "    sim_scores = sim_scores[1:11]\n",
    "    movie_indices = [i[0] for i in sim_scores]\n",
    "    return netflix_data['name'].iloc[movie_indices]"
   ]
  },
  {
   "cell_type": "code",
   "execution_count": 16,
   "metadata": {},
   "outputs": [],
   "source": [
    "movie = get_recommendations('Peaky Blinders')\n"
   ]
  },
  {
   "cell_type": "code",
   "execution_count": 17,
   "metadata": {},
   "outputs": [],
   "source": [
    "movie = movie.tolist()\n"
   ]
  },
  {
   "cell_type": "code",
   "execution_count": 18,
   "metadata": {},
   "outputs": [
    {
     "data": {
      "text/plain": [
       "'Project Gutenberg'"
      ]
     },
     "execution_count": 18,
     "metadata": {},
     "output_type": "execute_result"
    }
   ],
   "source": [
    "movie[0]\n"
   ]
  },
  {
   "cell_type": "code",
   "execution_count": 19,
   "metadata": {},
   "outputs": [
    {
     "data": {
      "text/plain": [
       "2968    42 Days of Darkness\n",
       "2955       The Chestnut Man\n",
       "2495         Altered Carbon\n",
       "2901       Who Killed Sara?\n",
       "137                Ad Astra\n",
       "3164             Synchronic\n",
       "2556                 Maniac\n",
       "2585           The Stranger\n",
       "2092            Lucid Dream\n",
       "2870                   1899\n",
       "Name: name, dtype: object"
      ]
     },
     "execution_count": 19,
     "metadata": {},
     "output_type": "execute_result"
    }
   ],
   "source": [
    "get_recommendations('Dark')\n"
   ]
  },
  {
   "cell_type": "code",
   "execution_count": null,
   "metadata": {},
   "outputs": [],
   "source": []
  }
 ],
 "metadata": {
  "kernelspec": {
   "display_name": ".venv",
   "language": "python",
   "name": "python3"
  },
  "language_info": {
   "codemirror_mode": {
    "name": "ipython",
    "version": 3
   },
   "file_extension": ".py",
   "mimetype": "text/x-python",
   "name": "python",
   "nbconvert_exporter": "python",
   "pygments_lexer": "ipython3",
   "version": "3.11.8"
  }
 },
 "nbformat": 4,
 "nbformat_minor": 2
}
